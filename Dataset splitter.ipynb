{
 "cells": [
  {
   "cell_type": "code",
   "execution_count": 141,
   "id": "5b58336e",
   "metadata": {},
   "outputs": [],
   "source": [
    "#Script for spliting a data set into different folders FOR FEI DATASET\n",
    "\n",
    "from pathlib import Path\n",
    "import shutil\n",
    "import os\n",
    "from math import floor\n",
    "\n",
    "#Total examples and their splits\n",
    "TOTAL_EXAMPLES = 280\n",
    "#Write the set of image numbers that you want to extract for each image\n",
    "TRAINING_NUMBERS = [i for i in range(11,15)] + [i for i in range(3,9)] \n",
    "VALIDATION_NUMBERS = [2, 9] #Validation on 2 and 9\n",
    "TESTING_NUMBERS = [1, 10] #Testing on extreme pose\n",
    "\n",
    "TRAINING_SET_SIZE = len(TRAINING_NUMBERS) * 200\n",
    "VALIDATION_SET_SIZE = len(VALIDATION_NUMBERS) * 200\n",
    "TEST_SET_SIZE = len(TESTING_NUMBERS) * 200\n",
    "\n",
    "# defining source and destination\n",
    "# paths\n",
    "src = '/home/sawaiz/Documents/FEI dataset/FEI original'\n",
    "des = '/home/sawaiz/Documents/FEI dataset/FEI SPLIT'\n",
    "os.mkdir(des + '/Training')\n",
    "os.mkdir(des + '/Validation')\n",
    "os.mkdir(des + '/Testing')\n",
    "\n",
    "trainingFolderPath = '/home/sawaiz/Documents/FEI dataset/FEI SPLIT/Training'\n",
    "validationFolderPath = '/home/sawaiz/Documents/FEI dataset/FEI SPLIT/Validation' \n",
    "testFolderPath = '/home/sawaiz/Documents/FEI dataset/FEI SPLIT/Testing' \n"
   ]
  },
  {
   "cell_type": "code",
   "execution_count": 142,
   "id": "fa0ac5f5",
   "metadata": {},
   "outputs": [],
   "source": [
    "files = os.listdir(src)\n",
    "files.sort()\n"
   ]
  },
  {
   "cell_type": "code",
   "execution_count": 143,
   "id": "0b5e1a08",
   "metadata": {},
   "outputs": [
    {
     "name": "stdout",
     "output_type": "stream",
     "text": [
      "Training examples written into 200 folders are: 2000\n"
     ]
    }
   ],
   "source": [
    "i = 0\n",
    "#Splitting for training\n",
    "while i < TOTAL_EXAMPLES:\n",
    "    fname = files[i]\n",
    "    number = fname.split('-')[0]\n",
    "    if not number in os.listdir(trainingFolderPath):\n",
    "        path = os.path.join(trainingFolderPath, str(number))\n",
    "        os.mkdir(path)\n",
    "    \n",
    "    poseNumber = int(fname.split('-')[1].split('.')[0]) \n",
    "    if poseNumber in TRAINING_NUMBERS:\n",
    "        copySourcePath = os.path.join(src,fname)\n",
    "        copyDestinationPath = os.path.join(trainingFolderPath,str(number), fname)\n",
    "\n",
    "        #print(\"Source: \", copySourcePath)\n",
    "        #print(\"Destination: \", copyDestinationPath)\n",
    "\n",
    "        shutil.copyfile(copySourcePath, copyDestinationPath)\n",
    "\n",
    "    i +=1\n",
    "\n",
    "print(f\"Training examples written into {200} folders are: {TRAINING_SET_SIZE}\")"
   ]
  },
  {
   "cell_type": "code",
   "execution_count": 144,
   "id": "e53f34f6",
   "metadata": {},
   "outputs": [
    {
     "name": "stdout",
     "output_type": "stream",
     "text": [
      "Validation examples written into 200 folders are: 400\n"
     ]
    }
   ],
   "source": [
    "i = 0\n",
    "#Splitting for Validation\n",
    "while i < TOTAL_EXAMPLES:\n",
    "    fname = files[i]\n",
    "    number = fname.split('-')[0]\n",
    "    if not number in os.listdir(validationFolderPath):\n",
    "        path = os.path.join(validationFolderPath, str(number))\n",
    "        os.mkdir(path)\n",
    "\n",
    "    poseNumber = int(fname.split('-')[1].split('.')[0])\n",
    "    if poseNumber in VALIDATION_NUMBERS:\n",
    "        copySourcePath = os.path.join(src,fname)\n",
    "        copyDestinationPath = os.path.join(validationFolderPath,str(number), fname)\n",
    "\n",
    "        #print(\"Source: \", copySourcePath)\n",
    "        #print(\"Destination: \", copyDestinationPath)\n",
    "\n",
    "        shutil.copyfile(copySourcePath, copyDestinationPath)\n",
    "\n",
    "    i +=1\n",
    "\n",
    "print(f\"Validation examples written into {200} folders are: {VALIDATION_SET_SIZE}\")"
   ]
  },
  {
   "cell_type": "code",
   "execution_count": 145,
   "id": "3dd37f9d",
   "metadata": {},
   "outputs": [
    {
     "name": "stdout",
     "output_type": "stream",
     "text": [
      "Testing examples written into 200 folders are: 400\n"
     ]
    }
   ],
   "source": [
    "i = 0\n",
    "#Splitting for testing\n",
    "while i < TOTAL_EXAMPLES:\n",
    "    fname = files[i]\n",
    "    number = fname.split('-')[0]\n",
    "    if not number in os.listdir(testFolderPath):\n",
    "        path = os.path.join(testFolderPath, str(number))\n",
    "        os.mkdir(path)\n",
    "\n",
    "    poseNumber = int(fname.split('-')[1].split('.')[0])\n",
    "    if poseNumber in TESTING_NUMBERS:\n",
    "        copySourcePath = os.path.join(src,fname)\n",
    "        copyDestinationPath = os.path.join(testFolderPath,str(number), fname)\n",
    "\n",
    "        #print(\"Source: \", copySourcePath)\n",
    "        #print(\"Destination: \", copyDestinationPath)\n",
    "\n",
    "        shutil.copyfile(copySourcePath, copyDestinationPath)\n",
    "\n",
    "    i +=1\n",
    "\n",
    "print(f\"Testing examples written into {200} folders are: {TEST_SET_SIZE}\")"
   ]
  },
  {
   "cell_type": "code",
   "execution_count": null,
   "id": "9a9255cc",
   "metadata": {},
   "outputs": [],
   "source": []
  },
  {
   "cell_type": "code",
   "execution_count": null,
   "id": "2f907bcf",
   "metadata": {},
   "outputs": [],
   "source": []
  }
 ],
 "metadata": {
  "kernelspec": {
   "display_name": "Python 3 (ipykernel)",
   "language": "python",
   "name": "python3"
  },
  "language_info": {
   "codemirror_mode": {
    "name": "ipython",
    "version": 3
   },
   "file_extension": ".py",
   "mimetype": "text/x-python",
   "name": "python",
   "nbconvert_exporter": "python",
   "pygments_lexer": "ipython3",
   "version": "3.9.13"
  }
 },
 "nbformat": 4,
 "nbformat_minor": 5
}
